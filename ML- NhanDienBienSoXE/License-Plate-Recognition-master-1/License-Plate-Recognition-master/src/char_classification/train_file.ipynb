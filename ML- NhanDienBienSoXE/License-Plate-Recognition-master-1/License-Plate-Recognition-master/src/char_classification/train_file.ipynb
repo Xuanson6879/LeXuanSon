{
  "cells": [
    {
      "cell_type": "code",
      "execution_count": 1,
      "metadata": {
        "colab": {
          "base_uri": "https://localhost:8080/",
          "height": 34
        },
        "colab_type": "code",
        "id": "gmRlqcvMQUDJ",
        "outputId": "07c1fe81-717a-4b97-ace1-d2fc23004909"
      },
      "outputs": [
        {
          "ename": "ModuleNotFoundError",
          "evalue": "No module named 'google.colab'",
          "output_type": "error",
          "traceback": [
            "\u001b[1;31m---------------------------------------------------------------------------\u001b[0m",
            "\u001b[1;31mModuleNotFoundError\u001b[0m                       Traceback (most recent call last)",
            "\u001b[1;32md:\\Desktop\\hoctap\\ML\\License-Plate-Recognition-master-1\\License-Plate-Recognition-master\\src\\char_classification\\train_file.ipynb Cell 1\u001b[0m in \u001b[0;36m<cell line: 1>\u001b[1;34m()\u001b[0m\n\u001b[1;32m----> <a href='vscode-notebook-cell:/d%3A/Desktop/hoctap/ML/License-Plate-Recognition-master-1/License-Plate-Recognition-master/src/char_classification/train_file.ipynb#W0sZmlsZQ%3D%3D?line=0'>1</a>\u001b[0m \u001b[39mfrom\u001b[39;00m \u001b[39mgoogle\u001b[39;00m\u001b[39m.\u001b[39;00m\u001b[39mcolab\u001b[39;00m \u001b[39mimport\u001b[39;00m drive\n\u001b[0;32m      <a href='vscode-notebook-cell:/d%3A/Desktop/hoctap/ML/License-Plate-Recognition-master-1/License-Plate-Recognition-master/src/char_classification/train_file.ipynb#W0sZmlsZQ%3D%3D?line=1'>2</a>\u001b[0m drive\u001b[39m.\u001b[39mmount(\u001b[39m'\u001b[39m\u001b[39m/content/drive\u001b[39m\u001b[39m'\u001b[39m)\n",
            "\u001b[1;31mModuleNotFoundError\u001b[0m: No module named 'google.colab'"
          ]
        }
      ],
      "source": [
        "from google.colab import drive\n",
        "drive.mount('/content/drive')"
      ]
    },
    {
      "cell_type": "code",
      "execution_count": null,
      "metadata": {
        "colab": {
          "base_uri": "https://localhost:8080/",
          "height": 34
        },
        "colab_type": "code",
        "id": "jagkCNPOQKNR",
        "outputId": "464a0511-851a-4607-bccd-048d2d5ae7f4"
      },
      "outputs": [
        {
          "name": "stdout",
          "output_type": "stream",
          "text": [
            "/content/drive/My Drive/LP_Recognition\n"
          ]
        }
      ],
      "source": [
        "%cd /content/drive/My Drive/LP_Recognition"
      ]
    },
    {
      "cell_type": "code",
      "execution_count": null,
      "metadata": {
        "colab": {
          "base_uri": "https://localhost:8080/",
          "height": 782
        },
        "colab_type": "code",
        "id": "NS_5W_vEQqdN",
        "outputId": "0369a713-a73e-4768-c6c2-03779578cc52"
      },
      "outputs": [
        {
          "name": "stdout",
          "output_type": "stream",
          "text": [
            "Model: \"sequential\"\n",
            "_________________________________________________________________\n",
            " Layer (type)                Output Shape              Param #   \n",
            "=================================================================\n",
            " conv2d (Conv2D)             (None, 28, 28, 32)        320       \n",
            "                                                                 \n",
            " conv2d_1 (Conv2D)           (None, 26, 26, 32)        9248      \n",
            "                                                                 \n",
            " max_pooling2d (MaxPooling2D  (None, 13, 13, 32)       0         \n",
            " )                                                               \n",
            "                                                                 \n",
            " dropout (Dropout)           (None, 13, 13, 32)        0         \n",
            "                                                                 \n",
            " conv2d_2 (Conv2D)           (None, 13, 13, 64)        18496     \n",
            "                                                                 \n",
            " conv2d_3 (Conv2D)           (None, 11, 11, 64)        36928     \n",
            "                                                                 \n",
            " max_pooling2d_1 (MaxPooling  (None, 5, 5, 64)         0         \n",
            " 2D)                                                             \n",
            "                                                                 \n",
            " dropout_1 (Dropout)         (None, 5, 5, 64)          0         \n",
            "                                                                 \n",
            " conv2d_4 (Conv2D)           (None, 5, 5, 64)          36928     \n",
            "                                                                 \n",
            " conv2d_5 (Conv2D)           (None, 3, 3, 64)          36928     \n",
            "                                                                 \n",
            " max_pooling2d_2 (MaxPooling  (None, 1, 1, 64)         0         \n",
            " 2D)                                                             \n",
            "                                                                 \n",
            " dropout_2 (Dropout)         (None, 1, 1, 64)          0         \n",
            "                                                                 \n",
            " flatten (Flatten)           (None, 64)                0         \n",
            "                                                                 \n",
            " dense (Dense)               (None, 512)               33280     \n",
            "                                                                 \n",
            " dropout_3 (Dropout)         (None, 512)               0         \n",
            "                                                                 \n",
            " dense_1 (Dense)             (None, 32)                16416     \n",
            "                                                                 \n",
            "=================================================================\n",
            "Total params: 188,544\n",
            "Trainable params: 188,544\n",
            "Non-trainable params: 0\n",
            "_________________________________________________________________\n",
            "-------------DONE------------\n",
            "The number of train digits data:  770\n",
            "-------------DONE------------\n",
            "The number of train alphas data:  628\n"
          ]
        }
      ],
      "source": [
        "from model import CNN_Model\n",
        "\n",
        "model = CNN_Model(trainable=True)"
      ]
    },
    {
      "cell_type": "code",
      "execution_count": null,
      "metadata": {
        "colab": {
          "base_uri": "https://localhost:8080/",
          "height": 1000
        },
        "colab_type": "code",
        "id": "RyOFTwBrRCRU",
        "outputId": "44a04989-c8a8-4832-f927-17ef4b59e9e9"
      },
      "outputs": [
        {
          "name": "stdout",
          "output_type": "stream",
          "text": [
            "Training......\n",
            "Epoch 1/50\n",
            "39/39 [==============================] - 12s 299ms/step - loss: 0.2241 - acc: 0.9624 - val_loss: 0.0000e+00 - val_acc: 1.0000 - lr: 0.0010\n",
            "Epoch 2/50\n",
            "39/39 [==============================] - 12s 304ms/step - loss: 0.0000e+00 - acc: 1.0000 - val_loss: 0.0000e+00 - val_acc: 1.0000 - lr: 0.0010\n",
            "Epoch 3/50\n",
            "39/39 [==============================] - 11s 285ms/step - loss: 0.0000e+00 - acc: 1.0000 - val_loss: 0.0000e+00 - val_acc: 1.0000 - lr: 0.0010\n",
            "Epoch 4/50\n",
            "39/39 [==============================] - 10s 249ms/step - loss: 0.0000e+00 - acc: 1.0000 - val_loss: 0.0000e+00 - val_acc: 1.0000 - lr: 0.0010\n",
            "Epoch 5/50\n",
            "39/39 [==============================] - 10s 252ms/step - loss: 0.0000e+00 - acc: 1.0000 - val_loss: 0.0000e+00 - val_acc: 1.0000 - lr: 0.0010\n",
            "Epoch 6/50\n",
            "39/39 [==============================] - ETA: 0s - loss: 0.0000e+00 - acc: 1.0000\n",
            "Epoch 6: ReduceLROnPlateau reducing learning rate to 0.00020000000949949026.\n",
            "39/39 [==============================] - 10s 255ms/step - loss: 0.0000e+00 - acc: 1.0000 - val_loss: 0.0000e+00 - val_acc: 1.0000 - lr: 0.0010\n",
            "Epoch 7/50\n",
            "39/39 [==============================] - 10s 253ms/step - loss: 0.0000e+00 - acc: 1.0000 - val_loss: 0.0000e+00 - val_acc: 1.0000 - lr: 2.0000e-04\n",
            "Epoch 8/50\n",
            "39/39 [==============================] - 10s 265ms/step - loss: 0.0000e+00 - acc: 1.0000 - val_loss: 0.0000e+00 - val_acc: 1.0000 - lr: 2.0000e-04\n",
            "Epoch 9/50\n",
            "39/39 [==============================] - 10s 260ms/step - loss: 0.0000e+00 - acc: 1.0000 - val_loss: 0.0000e+00 - val_acc: 1.0000 - lr: 2.0000e-04\n",
            "Epoch 10/50\n",
            "39/39 [==============================] - 10s 257ms/step - loss: 0.0000e+00 - acc: 1.0000 - val_loss: 0.0000e+00 - val_acc: 1.0000 - lr: 2.0000e-04\n",
            "Epoch 11/50\n",
            "39/39 [==============================] - ETA: 0s - loss: 0.0000e+00 - acc: 1.0000\n",
            "Epoch 11: ReduceLROnPlateau reducing learning rate to 4.0000001899898055e-05.\n",
            "39/39 [==============================] - 10s 260ms/step - loss: 0.0000e+00 - acc: 1.0000 - val_loss: 0.0000e+00 - val_acc: 1.0000 - lr: 2.0000e-04\n",
            "Epoch 12/50\n",
            "39/39 [==============================] - 10s 255ms/step - loss: 0.0000e+00 - acc: 1.0000 - val_loss: 0.0000e+00 - val_acc: 1.0000 - lr: 4.0000e-05\n",
            "Epoch 13/50\n",
            "39/39 [==============================] - 10s 248ms/step - loss: 0.0000e+00 - acc: 1.0000 - val_loss: 0.0000e+00 - val_acc: 1.0000 - lr: 4.0000e-05\n",
            "Epoch 14/50\n",
            "39/39 [==============================] - 10s 244ms/step - loss: 0.0000e+00 - acc: 1.0000 - val_loss: 0.0000e+00 - val_acc: 1.0000 - lr: 4.0000e-05\n",
            "Epoch 15/50\n",
            "39/39 [==============================] - 10s 254ms/step - loss: 0.0000e+00 - acc: 1.0000 - val_loss: 0.0000e+00 - val_acc: 1.0000 - lr: 4.0000e-05\n",
            "Epoch 16/50\n",
            "39/39 [==============================] - ETA: 0s - loss: 0.0000e+00 - acc: 1.0000\n",
            "Epoch 16: ReduceLROnPlateau reducing learning rate to 8.000000525498762e-06.\n",
            "39/39 [==============================] - 9s 243ms/step - loss: 0.0000e+00 - acc: 1.0000 - val_loss: 0.0000e+00 - val_acc: 1.0000 - lr: 4.0000e-05\n",
            "Epoch 17/50\n",
            "39/39 [==============================] - 10s 247ms/step - loss: 0.0000e+00 - acc: 1.0000 - val_loss: 0.0000e+00 - val_acc: 1.0000 - lr: 8.0000e-06\n",
            "Epoch 18/50\n",
            "39/39 [==============================] - 9s 243ms/step - loss: 0.0000e+00 - acc: 1.0000 - val_loss: 0.0000e+00 - val_acc: 1.0000 - lr: 8.0000e-06\n",
            "Epoch 19/50\n",
            "39/39 [==============================] - 10s 245ms/step - loss: 0.0000e+00 - acc: 1.0000 - val_loss: 0.0000e+00 - val_acc: 1.0000 - lr: 8.0000e-06\n",
            "Epoch 20/50\n",
            "39/39 [==============================] - 10s 245ms/step - loss: 0.0000e+00 - acc: 1.0000 - val_loss: 0.0000e+00 - val_acc: 1.0000 - lr: 8.0000e-06\n",
            "Epoch 21/50\n",
            "39/39 [==============================] - ETA: 0s - loss: 0.0000e+00 - acc: 1.0000\n",
            "Epoch 21: ReduceLROnPlateau reducing learning rate to 1.6000001778593287e-06.\n",
            "39/39 [==============================] - 10s 253ms/step - loss: 0.0000e+00 - acc: 1.0000 - val_loss: 0.0000e+00 - val_acc: 1.0000 - lr: 8.0000e-06\n",
            "Epoch 22/50\n",
            "39/39 [==============================] - 10s 244ms/step - loss: 0.0000e+00 - acc: 1.0000 - val_loss: 0.0000e+00 - val_acc: 1.0000 - lr: 1.6000e-06\n",
            "Epoch 23/50\n",
            "39/39 [==============================] - 10s 244ms/step - loss: 0.0000e+00 - acc: 1.0000 - val_loss: 0.0000e+00 - val_acc: 1.0000 - lr: 1.6000e-06\n",
            "Epoch 24/50\n",
            "39/39 [==============================] - 10s 245ms/step - loss: 0.0000e+00 - acc: 1.0000 - val_loss: 0.0000e+00 - val_acc: 1.0000 - lr: 1.6000e-06\n",
            "Epoch 25/50\n",
            "39/39 [==============================] - 10s 251ms/step - loss: 0.0000e+00 - acc: 1.0000 - val_loss: 0.0000e+00 - val_acc: 1.0000 - lr: 1.6000e-06\n",
            "Epoch 26/50\n",
            "39/39 [==============================] - ETA: 0s - loss: 0.0000e+00 - acc: 1.0000\n",
            "Epoch 26: ReduceLROnPlateau reducing learning rate to 3.200000264769187e-07.\n",
            "39/39 [==============================] - 10s 245ms/step - loss: 0.0000e+00 - acc: 1.0000 - val_loss: 0.0000e+00 - val_acc: 1.0000 - lr: 1.6000e-06\n",
            "Epoch 27/50\n",
            "39/39 [==============================] - 10s 245ms/step - loss: 0.0000e+00 - acc: 1.0000 - val_loss: 0.0000e+00 - val_acc: 1.0000 - lr: 3.2000e-07\n",
            "Epoch 28/50\n",
            "39/39 [==============================] - 10s 245ms/step - loss: 0.0000e+00 - acc: 1.0000 - val_loss: 0.0000e+00 - val_acc: 1.0000 - lr: 3.2000e-07\n",
            "Epoch 29/50\n",
            "39/39 [==============================] - 10s 246ms/step - loss: 0.0000e+00 - acc: 1.0000 - val_loss: 0.0000e+00 - val_acc: 1.0000 - lr: 3.2000e-07\n",
            "Epoch 30/50\n",
            "39/39 [==============================] - 10s 247ms/step - loss: 0.0000e+00 - acc: 1.0000 - val_loss: 0.0000e+00 - val_acc: 1.0000 - lr: 3.2000e-07\n",
            "Epoch 31/50\n",
            "39/39 [==============================] - ETA: 0s - loss: 0.0000e+00 - acc: 1.0000\n",
            "Epoch 31: ReduceLROnPlateau reducing learning rate to 6.400000529538374e-08.\n",
            "39/39 [==============================] - 10s 249ms/step - loss: 0.0000e+00 - acc: 1.0000 - val_loss: 0.0000e+00 - val_acc: 1.0000 - lr: 3.2000e-07\n",
            "Epoch 32/50\n",
            "39/39 [==============================] - 10s 245ms/step - loss: 0.0000e+00 - acc: 1.0000 - val_loss: 0.0000e+00 - val_acc: 1.0000 - lr: 6.4000e-08\n",
            "Epoch 33/50\n",
            "39/39 [==============================] - 10s 244ms/step - loss: 0.0000e+00 - acc: 1.0000 - val_loss: 0.0000e+00 - val_acc: 1.0000 - lr: 6.4000e-08\n",
            "Epoch 34/50\n",
            "39/39 [==============================] - 10s 247ms/step - loss: 0.0000e+00 - acc: 1.0000 - val_loss: 0.0000e+00 - val_acc: 1.0000 - lr: 6.4000e-08\n",
            "Epoch 35/50\n",
            "39/39 [==============================] - 10s 246ms/step - loss: 0.0000e+00 - acc: 1.0000 - val_loss: 0.0000e+00 - val_acc: 1.0000 - lr: 6.4000e-08\n",
            "Epoch 36/50\n",
            "39/39 [==============================] - ETA: 0s - loss: 0.0000e+00 - acc: 1.0000\n",
            "Epoch 36: ReduceLROnPlateau reducing learning rate to 1.2800001059076749e-08.\n",
            "39/39 [==============================] - 10s 252ms/step - loss: 0.0000e+00 - acc: 1.0000 - val_loss: 0.0000e+00 - val_acc: 1.0000 - lr: 6.4000e-08\n",
            "Epoch 37/50\n",
            "39/39 [==============================] - 10s 257ms/step - loss: 0.0000e+00 - acc: 1.0000 - val_loss: 0.0000e+00 - val_acc: 1.0000 - lr: 1.2800e-08\n",
            "Epoch 38/50\n",
            "39/39 [==============================] - 10s 254ms/step - loss: 0.0000e+00 - acc: 1.0000 - val_loss: 0.0000e+00 - val_acc: 1.0000 - lr: 1.2800e-08\n",
            "Epoch 39/50\n",
            "39/39 [==============================] - 10s 249ms/step - loss: 0.0000e+00 - acc: 1.0000 - val_loss: 0.0000e+00 - val_acc: 1.0000 - lr: 1.2800e-08\n",
            "Epoch 40/50\n",
            "39/39 [==============================] - 10s 252ms/step - loss: 0.0000e+00 - acc: 1.0000 - val_loss: 0.0000e+00 - val_acc: 1.0000 - lr: 1.2800e-08\n",
            "Epoch 41/50\n",
            "39/39 [==============================] - ETA: 0s - loss: 0.0000e+00 - acc: 1.0000\n",
            "Epoch 41: ReduceLROnPlateau reducing learning rate to 2.5600002118153498e-09.\n",
            "39/39 [==============================] - 10s 256ms/step - loss: 0.0000e+00 - acc: 1.0000 - val_loss: 0.0000e+00 - val_acc: 1.0000 - lr: 1.2800e-08\n",
            "Epoch 42/50\n",
            "39/39 [==============================] - 11s 270ms/step - loss: 0.0000e+00 - acc: 1.0000 - val_loss: 0.0000e+00 - val_acc: 1.0000 - lr: 2.5600e-09\n",
            "Epoch 43/50\n",
            "39/39 [==============================] - 10s 263ms/step - loss: 0.0000e+00 - acc: 1.0000 - val_loss: 0.0000e+00 - val_acc: 1.0000 - lr: 2.5600e-09\n",
            "Epoch 44/50\n",
            "39/39 [==============================] - 11s 278ms/step - loss: 0.0000e+00 - acc: 1.0000 - val_loss: 0.0000e+00 - val_acc: 1.0000 - lr: 2.5600e-09\n",
            "Epoch 45/50\n",
            "39/39 [==============================] - 11s 287ms/step - loss: 0.0000e+00 - acc: 1.0000 - val_loss: 0.0000e+00 - val_acc: 1.0000 - lr: 2.5600e-09\n",
            "Epoch 46/50\n",
            "39/39 [==============================] - ETA: 0s - loss: 0.0000e+00 - acc: 1.0000\n",
            "Epoch 46: ReduceLROnPlateau reducing learning rate to 5.1200004236307e-10.\n",
            "39/39 [==============================] - 12s 305ms/step - loss: 0.0000e+00 - acc: 1.0000 - val_loss: 0.0000e+00 - val_acc: 1.0000 - lr: 2.5600e-09\n",
            "Epoch 47/50\n",
            "39/39 [==============================] - 11s 280ms/step - loss: 0.0000e+00 - acc: 1.0000 - val_loss: 0.0000e+00 - val_acc: 1.0000 - lr: 5.1200e-10\n",
            "Epoch 48/50\n",
            "39/39 [==============================] - 11s 278ms/step - loss: 0.0000e+00 - acc: 1.0000 - val_loss: 0.0000e+00 - val_acc: 1.0000 - lr: 5.1200e-10\n",
            "Epoch 49/50\n",
            "39/39 [==============================] - 11s 292ms/step - loss: 0.0000e+00 - acc: 1.0000 - val_loss: 0.0000e+00 - val_acc: 1.0000 - lr: 5.1200e-10\n",
            "Epoch 50/50\n",
            "39/39 [==============================] - 12s 301ms/step - loss: 0.0000e+00 - acc: 1.0000 - val_loss: 0.0000e+00 - val_acc: 1.0000 - lr: 5.1200e-10\n"
          ]
        }
      ],
      "source": [
        "model.train()"
      ]
    }
  ],
  "metadata": {
    "accelerator": "GPU",
    "colab": {
      "name": "LP_Recognition.ipynb",
      "provenance": []
    },
    "interpreter": {
      "hash": "bf4fbbcfb44b62809ee9ef976aff62d8f85ac4ea82e40788fda9594addf376e6"
    },
    "kernelspec": {
      "display_name": "Python 3.9.9 64-bit",
      "language": "python",
      "name": "python3"
    },
    "language_info": {
      "codemirror_mode": {
        "name": "ipython",
        "version": 3
      },
      "file_extension": ".py",
      "mimetype": "text/x-python",
      "name": "python",
      "nbconvert_exporter": "python",
      "pygments_lexer": "ipython3",
      "version": "3.9.9"
    }
  },
  "nbformat": 4,
  "nbformat_minor": 0
}
